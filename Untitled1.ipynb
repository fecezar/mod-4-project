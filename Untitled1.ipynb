{
 "cells": [
  {
   "cell_type": "markdown",
   "metadata": {},
   "source": [
    "# Libraries"
   ]
  },
  {
   "cell_type": "code",
   "execution_count": 6,
   "metadata": {
    "ExecuteTime": {
     "end_time": "2020-09-21T13:18:57.133588Z",
     "start_time": "2020-09-21T13:18:57.120587Z"
    }
   },
   "outputs": [],
   "source": [
    "import pandas as pd\n",
    "import numpy as np\n",
    "import string\n",
    "import re\n",
    "from wordcloud import WordCloud\n",
    "\n",
    "\n",
    "from keras import models, layers, optimizers\n",
    "\n",
    "from sklearn.model_selection import train_test_split\n",
    "from sklearn.feature_extraction.text import TfidfVectorizer, CountVectorizer\n",
    "from sklearn.preprocessing import LabelBinarizer\n",
    "from sklearn.decomposition import PCA\n",
    "\n",
    "import nltk\n",
    "from nltk.collocations import * \n",
    "from nltk import word_tokenize, FreqDist\n",
    "from nltk.corpus import stopwords\n",
    "from nltk.stem.wordnet import WordNetLemmatizer\n",
    "\n",
    "import seaborn as sns\n",
    "import matplotlib.pyplot as plt\n",
    "%matplotlib inline\n",
    "\n"
   ]
  },
  {
   "cell_type": "markdown",
   "metadata": {},
   "source": [
    "# Data extraction and preprocessing"
   ]
  },
  {
   "cell_type": "code",
   "execution_count": 7,
   "metadata": {
    "ExecuteTime": {
     "end_time": "2020-09-21T13:19:02.001683Z",
     "start_time": "2020-09-21T13:19:00.782305Z"
    }
   },
   "outputs": [],
   "source": [
    "data = pd.read_csv('data\\winemag-data-130k-v2.csv', index_col=0)\n",
    "data.dropna(inplace=True, subset=['description', 'variety'])\n",
    "\n",
    "X = data['description']\n",
    "y = data['variety'].astype('category')"
   ]
  },
  {
   "cell_type": "code",
   "execution_count": 8,
   "metadata": {
    "ExecuteTime": {
     "end_time": "2020-09-21T13:19:08.939662Z",
     "start_time": "2020-09-21T13:19:05.701577Z"
    }
   },
   "outputs": [],
   "source": [
    "# unique varieties\n",
    "n_labels = len(y.unique())\n",
    "wine_varieties = list(y.unique())\n",
    "\n",
    "lb = LabelBinarizer()\n",
    "y = lb.fit_transform(y)"
   ]
  },
  {
   "cell_type": "code",
   "execution_count": 9,
   "metadata": {
    "ExecuteTime": {
     "end_time": "2020-09-21T13:19:12.666190Z",
     "start_time": "2020-09-21T13:19:12.358221Z"
    }
   },
   "outputs": [],
   "source": [
    "X_train, X_test, y_train, y_test = train_test_split(X, y, test_size=0.3, random_state=1988)"
   ]
  },
  {
   "cell_type": "markdown",
   "metadata": {},
   "source": [
    "# EDA"
   ]
  },
  {
   "cell_type": "code",
   "execution_count": 10,
   "metadata": {
    "ExecuteTime": {
     "end_time": "2020-09-21T13:20:21.696286Z",
     "start_time": "2020-09-21T13:19:16.269397Z"
    },
    "scrolled": true
   },
   "outputs": [],
   "source": [
    "# tokenize\n",
    "pattern = \"([A-Za-z]+-?'?[A-Za-z]+)\"\n",
    "texts_regex = [nltk.regexp_tokenize(text, pattern) for text in X]\n",
    "\n",
    "\n",
    "# Get all the stop words in the English language\n",
    "stopwords_list = stopwords.words('english')\n",
    "\n",
    "# Now we have a list that includes all english stopwords, ponctuation and wine varieties\n",
    "stopwords_list += list(string.punctuation)\n",
    "stopwords_list += wine_varieties\n",
    "\n",
    "\n",
    "# if using regex, no need to use word_tokenize ******\n",
    "#texts_tokens = [word_tokenize(' '.join(text)) for text in texts_regex]\n",
    "\n",
    "# lemmatization\n",
    "lemmatizer = WordNetLemmatizer()\n",
    "lemmatized_tokenized_texts = []\n",
    "for text in texts_regex:\n",
    "    lemmatized_tokenized_text = [lemmatizer.lemmatize(w) for w in text]\n",
    "    lemmatized_tokenized_texts.append(lemmatized_tokenized_text)\n",
    "\n",
    "\n",
    "\n",
    "##### *********    \n",
    "#bigram_measures = nltk.collocations.BigramAssocMeasures()\n",
    "\n",
    "\n",
    "\n",
    "#for lemmatized_tokenized_text in lemmatized_tokenized_texts:\n",
    "#    bigram_finder = BigramCollocationFinder.from_words(macbeth_words_stopped)\n",
    "#   bigram_scored = macbeth_finder.score_ngrams(bigram_measures.raw_freq)\n",
    "#### **********\n",
    "    \n",
    "    \n",
    "    \n",
    "final_tokenized_texts = []\n",
    "for lemmatized_tokenized_text in lemmatized_tokenized_texts:\n",
    "    final_tokenized_text = [w.lower() for w in lemmatized_tokenized_text if w.lower() not in stopwords_list]\n",
    "    final_tokenized_texts.append(final_tokenized_text)\n"
   ]
  },
  {
   "cell_type": "code",
   "execution_count": null,
   "metadata": {},
   "outputs": [],
   "source": []
  },
  {
   "cell_type": "code",
   "execution_count": null,
   "metadata": {},
   "outputs": [],
   "source": []
  },
  {
   "cell_type": "code",
   "execution_count": null,
   "metadata": {},
   "outputs": [],
   "source": []
  },
  {
   "cell_type": "code",
   "execution_count": null,
   "metadata": {},
   "outputs": [],
   "source": []
  },
  {
   "cell_type": "code",
   "execution_count": null,
   "metadata": {},
   "outputs": [],
   "source": []
  },
  {
   "cell_type": "markdown",
   "metadata": {},
   "source": [
    "# Vectorization"
   ]
  },
  {
   "cell_type": "code",
   "execution_count": 11,
   "metadata": {
    "ExecuteTime": {
     "end_time": "2020-09-21T13:20:40.615730Z",
     "start_time": "2020-09-21T13:20:25.588127Z"
    },
    "collapsed": true
   },
   "outputs": [
    {
     "name": "stderr",
     "output_type": "stream",
     "text": [
      "C:\\Users\\felip\\anaconda3\\envs\\learn-env\\lib\\site-packages\\sklearn\\feature_extraction\\text.py:300: UserWarning: Your stop_words may be inconsistent with your preprocessing. Tokenizing the stop words generated tokens ['abouriou', 'agiorgitiko', 'aglianico', 'aidani', 'airen', 'albana', 'albanello', 'albari', 'albarossa', 'aleatico', 'alejandr', 'alexandria', 'alfrocheiro', 'alicante', 'aligot', 'alkaras', 'alsace', 'altesse', 'alvarelh', 'alvarinho', 'alvarinho-chardonnay', 'amarela', 'angevine', 'ansonica', 'ant', 'apple', 'aragon', 'aragonez', 'argaman', 'arinto', 'arneis', 'asprinio', 'assyrtico', 'assyrtiko', 'athiri', 'austrian', 'auxerrois', 'avesso', 'azal', 'azkere', 'babi', 'babosa', 'bacchus', 'baco', 'baga', 'baga-touriga', 'barbera', 'barbera-nebbiolo', 'barroca', 'bastardo', 'bianca', 'biancale', 'bianco', 'biancolella', 'biancu', 'bical', 'black', 'blanc', 'blanc-assyrtiko', 'blanc-chardonnay', 'blanc-chenin', 'blanc-colombard', 'blanc-pinot', 'blanc-sauvignon', 'blanc-semillon', 'blanc-verdejo', 'blanc-viognier', 'blanca', 'blanche', 'blanco', 'blatina', 'blauburger', 'blauburgunder', 'blauer', 'blaufr', 'blend', 'bo', 'bobal', 'bobal-cabernet', 'bois', 'bombino', 'bonarda', 'bordeaux-style', 'bouschet', 'bovale', 'brachetto', 'braucol', 'bual', 'burgunder', 'cabernet', 'cabernet-malbec', 'cabernet-shiraz', 'cabernet-syrah', 'canaiolo', 'candia', 'canelli', 'cannonau', 'cao', 'cappuccio', 'caprettone', 'carcajolu', 'cari', 'carignan', 'carignan-grenache', 'carignan-syrah', 'carignane', 'carignano', 'carine', 'carmen', 'carricante', 'casavecchia', 'castel', 'catalanesca', 'catarratto', 'cayuga', 'centesimino', 'cerceal', 'cercial', 'cesanese', 'chambourcin', 'champagne', 'chancellor', 'charbono', 'chardonel', 'chardonnay', 'chardonnay-albari', 'chardonnay-pinot', 'chardonnay-riesling', 'chardonnay-sauvignon', 'chardonnay-semillon', 'chardonnay-viognier', 'chasselas', 'chelois', 'chenin', 'chinuri', 'ciliegiolo', 'cinsault', 'clairette', 'claret', 'cococciola', 'coda', 'colombard', 'colombard-sauvignon', 'colombard-ugni', 'colorino', 'cortese', 'corvina', 'counoise', 'courbu', \"d'affile\", \"d'alexandrie\", \"d'avola\", 'da', 'dafni', 'de', 'debit', 'dega', 'del', 'di', 'diamond', 'dolcetto', 'dornfelder', 'dre', 'dre-syrah', 'du', 'duras', 'durella', 'durif', 'edelzwicker', 'ekiga', 'elbling', 'emir', 'ena', 'ena-garnacha', 'encruzado', 'erbaluce', 'espadeiro', 'evina', 'falanghina', 'favorita', 'fer', 'fern', 'feteasc', 'feteasca', 'fiano', 'fina', 'fino', 'folle', 'forcall', 'fr', 'franc', 'franc-cabernet', 'franc-carmen', 'franc-lemberger', 'franc-malbec', 'franc-merlot', 'franca', 'francisa', 'francisca', 'franconia', 'frankovka', 'frappato', 'freisa', 'friulano', 'fum', 'furmint', 'g-s', 'gaglioppo', 'gamay', 'gamza', 'garganega', 'garnacha', 'garnacha-cabernet', 'garnacha-cari', 'garnacha-monastrell', 'garnacha-syrah', 'garnacha-tempranillo', 'gelber', 'gentile', 'gew', 'gialla', 'giallo', 'glera', 'godello', 'gomes', 'gomes-bical', 'gouveio', 'gr', 'gra', 'graciano', 'gragnano', 'grains', 'grasparossa', 'grauburgunder', 'grecanico', 'grechetto', 'greco', 'grenache', 'grenache-carignan', 'grenache-mourv', 'grenache-shiraz', 'grenache-syrah', 'grigio', 'grigio-sauvignon', 'grignolino', 'grillo', 'gris', 'gris-gew', 'grolleau', 'groppello', 'gros', 'grosso', 'hamburg', 'hondarrabi', 'ilavka', 'incrocio', 'insolia', 'inzolia', 'ioas', 'irsai', 'istriana', 'jacqu', 'jacquez', 'jaen', 'jampal', 'johannisberg', 'kadarka', 'kalecik', 'kangoun', 'karalahna', 'karasakiz', 'karasi', 'kekfrankos', 'kerner', 'kinali', 'kisi', 'kotsifali', 'kuntra', \"l'oeil\", 'lagrein', 'lambrusco', 'larinho', 'laurent', 'lemberger', 'list', 'ller-thurgau', 'loin', 'loureiro', 'loureiro-arinto', 'lugana', 'macabeo', 'macabeo-chardonnay', 'macabeo-moscatel', 'madeira', 'madeleine', 'magliocco', 'malagousia', 'malagouzia', 'malagouzia-chardonnay', 'malbec', 'malbec-bonarda', 'malbec-cabernet', 'malbec-carm', 'malbec-merlot', 'malbec-petit', 'malbec-syrah', 'malbec-tannat', 'malbec-tempranillo', 'mali', 'malvar', 'malvasia', 'malvasia-viura', 'mandilaria', 'manseng', 'mansois', 'mantonico', 'manzoni', 'marawi', 'maria', 'marquette', 'marsanne', 'marsanne-roussanne', 'marsanne-viognier', 'marselan', 'marzemino', 'mascalese', 'mataro', 'maturana', 'mauzac', 'mavrodaphne', 'mavrokalavryta', 'mavrotragano', 'mavroudi', 'mavrud', 'mazuelo', 'melnik', 'melon', 'menc', 'meritage', 'merlot', 'merlot-argaman', 'merlot-cabernet', 'merlot-grenache', 'merlot-malbec', 'merlot-petite', 'merlot-shiraz', 'merlot-syrah', 'merlot-tannat', 'merseguera-sauvignon', 'meseguera', 'meslier', 'meunier', 'mi', 'millon', 'misket', 'mission', 'mling', 'mole', 'molinara', 'monastrell', 'monastrell-petit', 'monastrell-syrah', 'mondeuse', 'monica', 'montepulciano', 'monukka', 'morava', 'moravia', 'morillon', 'morio', 'moscadello', 'moscatel', 'moscato', 'moschofilero', 'moschofilero-chardonnay', 'mourv', 'mtsvane', 'muscadel', 'muscadelle', 'muscadine', 'muscat', 'muscatel', 'muskat', 'muskateller', 'musqu', 'na', 'nacional', 'nacional-cabernet', 'narince', 'nascetta', 'nasco', 'ne-style', 'neagra', 'neasc', 'nebbiolo', 'negra', 'negrette', 'negro', 'negroamaro', 'ner', 'nera', 'nerello', 'nero', 'neuburger', 'nez', 'nielluciu', 'nkisch', 'noir', 'noir-gamay', 'noir-syrah', 'norton', 'nosiola', 'noto', 'nsk', 'nuragus', 'ojaleshi', 'okuzgozu', 'oliver', 'ondenc', 'orange', 'orangetraube', 'otskhanuri', 'ottonel', 'pa', 'pais', 'pallagrello', 'palomino', 'pansa', 'papaskarasi', 'paralleda', 'parraleta', 'passerina', 'pecorino', 'pedro', 'perricone', 'petit', 'petite', 'petits', 'pfeffer', 'picapoll', 'picolit', 'picpoul', 'picudo', 'piedirosso', 'pigato', 'pignoletto', 'pignolo', 'pinot', 'pinot-chardonnay', 'pinotage', 'pinotage-merlot', 'piquepoul', 'pires', 'plant', 'plavac', 'plyto', 'port', 'portugieser', 'portuguese', 'portuguiser', 'posip', 'poulsard', 'premsal', 'pri', 'prieto', 'primitivo', 'prosecco', 'provence', 'prugnolo', 'prunelard', 'pugnitello', 'rabigato', 'raboso', 'ramisco', 'rara', 're-cabernet', 're-syrah', 'rebo', 'rebula', 'red', 'refosco', 'regal', 'rh', 'ribolla', 'rieslaner', 'riesling', 'riesling-chardonnay', 'rivaner', 'rkatsiteli', 'robola', 'roditis', 'roditis-moschofilero', 'rolle', 'rom', 'romorantin', 'rondinella', 'roriz', 'ros', 'rosa', 'rosado', 'rosato', 'roscetto', 'rosenmuskateller', 'rotaliano', 'roter', 'rotgipfler', 'roussanne', 'roussanne-grenache', 'roussanne-marsanne', 'roussanne-viognier', 'roviello', 'roxo', 'rslevel', 'ruch', 'rufete', 'ryzlink', 'rztraminer', 'rztraminer-riesling', 'sacy', 'sagrantino', 'salamino', 'sangiovese', 'sangiovese-cabernet', 'sangiovese-syrah', 'saperavi', 'saperavi-merlot', 'sapere', 'sauvignon', 'sauvignon-barbera', 'sauvignon-cabernet', 'sauvignon-carmen', 'sauvignon-malbec', 'sauvignon-merlot', 'sauvignon-s', 'sauvignon-sangiovese', 'sauvignon-shiraz', 'sauvignon-syrah', 'sauvignon-tempranillo', 'sauvignonasse', 'savagnin', 'savatiano', 'scheurebe', 'schiava', 'schwartzriesling', 'sciaccerellu', 'semillon-chardonnay', 'semillon-sauvignon', 'sercial', 'servadou', 'seyval', 'sherry', 'shiraz', 'shiraz-cabernet', 'shiraz-grenache', 'shiraz-malbec', 'shiraz-mourv', 'shiraz-roussanne', 'shiraz-tempranillo', 'shiraz-viognier', 'sideritis', 'siegerrebe', 'silvaner', 'silvaner-traminer', 'sirah', 'siria', 'sirica', 'sorbara', 'sous', 'souzao', 'sp', 'sparkling', 'spoletino', 'st', 'susumaniello', 'sylvaner', 'symphony', 'syrah', 'syrah-bonarda', 'syrah-cabernet', 'syrah-carignan', 'syrah-grenache', 'syrah-malbec', 'syrah-merlot', 'syrah-mourv', 'syrah-petit', 'syrah-petite', 'syrah-tempranillo', 'syrah-viognier', 'tamianka', 'tamjanika', 'tannat', 'tannat-cabernet', 'tannat-merlot', 'tannat-syrah', 'tburgunder', 'tempranillo', 'tempranillo-cabernet', 'tempranillo-garnacha', 'tempranillo-malbec', 'tempranillo-merlot', 'tempranillo-shiraz', 'tempranillo-syrah', 'tempranillo-tannat', 'teran', 'teroldego', 'terrantez', 'thrapsathiri', 'timorasso', 'tinta', 'tintilia', 'tinto', 'tintorera', 'tocai', 'tokaji', 'tokay', 'torbato', 'toro', 'torontel', 'torront', 'touriga', 'trajadura', 'traminer', 'traminette', 'trebbiano', 'treixadura', 'trepat', 'trincadeira', 'troia', 'trollinger', 'trousseau', 'tsapournakos', 'tsolikouri', 'turbiana', 'ugni', 'uva', 'uvalino', 'valdigui', 'valvin', 'vaz', 'velasco', 'veltliner', 'verdeca', 'verdejo', 'verdejo-sauvignon', 'verdejo-viura', 'verdelho', 'verdicchio', 'verdil', 'verdosilla', 'verdot', 'verduzzo', 'vermentino', 'vernaccia', 'vespaiolo', 'vespolina', 'vidadillo', 'vidal', 'vignoles', 'vilana', 'vincent', 'vinh', 'viognier', 'viognier-chardonnay', 'viognier-gew', 'viognier-grenache', 'viognier-marsanne', 'viognier-roussanne', 'viognier-valdigui', 'viosinho', 'vital', 'vitovska', 'viura', 'viura-chardonnay', 'viura-verdejo', 'volpe', 'vranac', 'vranec', 'weissburgunder', 'welschriesling', 'white', 'xarel-lo', 'xim', 'xinisteri', 'xinomavro', 'xynisteri', 'yapincak', 'zelen', 'zibibbo', 'zierfandler', 'zierfandler-rotgipfler', 'zinfandel', 'zlahtina', 'zuri', 'zweigelt'] not in stop_words.\n",
      "  'stop_words.' % sorted(inconsistent))\n"
     ]
    }
   ],
   "source": [
    "# TF IDF Vectorization\n",
    "\n",
    "\n",
    "tfid_vectorizer = TfidfVectorizer(\n",
    "    'content',\n",
    "    token_pattern=pattern,\n",
    "    ngram_range=(1, 2),\n",
    "    min_df=50,\n",
    "    stop_words=stopwords_list,\n",
    "    max_features=None, # what is the ideal number here?\n",
    "    )\n",
    "X_train_tfid = tfid_vectorizer.fit_transform(X_train)\n",
    "X_test_tfid = tfid_vectorizer.transform(X_test)\n",
    "\n",
    "n_features = X_train_tfid.shape[-1]\n",
    "\n",
    "token_counts = tfid_vectorizer.vocabulary_\n"
   ]
  },
  {
   "cell_type": "code",
   "execution_count": 12,
   "metadata": {
    "ExecuteTime": {
     "end_time": "2020-09-21T13:20:58.816921Z",
     "start_time": "2020-09-21T13:20:44.630491Z"
    },
    "collapsed": true
   },
   "outputs": [
    {
     "name": "stderr",
     "output_type": "stream",
     "text": [
      "C:\\Users\\felip\\anaconda3\\envs\\learn-env\\lib\\site-packages\\sklearn\\feature_extraction\\text.py:300: UserWarning: Your stop_words may be inconsistent with your preprocessing. Tokenizing the stop words generated tokens ['abouriou', 'agiorgitiko', 'aglianico', 'aidani', 'airen', 'albana', 'albanello', 'albari', 'albarossa', 'aleatico', 'alejandr', 'alexandria', 'alfrocheiro', 'alicante', 'aligot', 'alkaras', 'alsace', 'altesse', 'alvarelh', 'alvarinho', 'alvarinho-chardonnay', 'amarela', 'angevine', 'ansonica', 'ant', 'apple', 'aragon', 'aragonez', 'argaman', 'arinto', 'arneis', 'asprinio', 'assyrtico', 'assyrtiko', 'athiri', 'austrian', 'auxerrois', 'avesso', 'azal', 'azkere', 'babi', 'babosa', 'bacchus', 'baco', 'baga', 'baga-touriga', 'barbera', 'barbera-nebbiolo', 'barroca', 'bastardo', 'bianca', 'biancale', 'bianco', 'biancolella', 'biancu', 'bical', 'black', 'blanc', 'blanc-assyrtiko', 'blanc-chardonnay', 'blanc-chenin', 'blanc-colombard', 'blanc-pinot', 'blanc-sauvignon', 'blanc-semillon', 'blanc-verdejo', 'blanc-viognier', 'blanca', 'blanche', 'blanco', 'blatina', 'blauburger', 'blauburgunder', 'blauer', 'blaufr', 'blend', 'bo', 'bobal', 'bobal-cabernet', 'bois', 'bombino', 'bonarda', 'bordeaux-style', 'bouschet', 'bovale', 'brachetto', 'braucol', 'bual', 'burgunder', 'cabernet', 'cabernet-malbec', 'cabernet-shiraz', 'cabernet-syrah', 'canaiolo', 'candia', 'canelli', 'cannonau', 'cao', 'cappuccio', 'caprettone', 'carcajolu', 'cari', 'carignan', 'carignan-grenache', 'carignan-syrah', 'carignane', 'carignano', 'carine', 'carmen', 'carricante', 'casavecchia', 'castel', 'catalanesca', 'catarratto', 'cayuga', 'centesimino', 'cerceal', 'cercial', 'cesanese', 'chambourcin', 'champagne', 'chancellor', 'charbono', 'chardonel', 'chardonnay', 'chardonnay-albari', 'chardonnay-pinot', 'chardonnay-riesling', 'chardonnay-sauvignon', 'chardonnay-semillon', 'chardonnay-viognier', 'chasselas', 'chelois', 'chenin', 'chinuri', 'ciliegiolo', 'cinsault', 'clairette', 'claret', 'cococciola', 'coda', 'colombard', 'colombard-sauvignon', 'colombard-ugni', 'colorino', 'cortese', 'corvina', 'counoise', 'courbu', \"d'affile\", \"d'alexandrie\", \"d'avola\", 'da', 'dafni', 'de', 'debit', 'dega', 'del', 'di', 'diamond', 'dolcetto', 'dornfelder', 'dre', 'dre-syrah', 'du', 'duras', 'durella', 'durif', 'edelzwicker', 'ekiga', 'elbling', 'emir', 'ena', 'ena-garnacha', 'encruzado', 'erbaluce', 'espadeiro', 'evina', 'falanghina', 'favorita', 'fer', 'fern', 'feteasc', 'feteasca', 'fiano', 'fina', 'fino', 'folle', 'forcall', 'fr', 'franc', 'franc-cabernet', 'franc-carmen', 'franc-lemberger', 'franc-malbec', 'franc-merlot', 'franca', 'francisa', 'francisca', 'franconia', 'frankovka', 'frappato', 'freisa', 'friulano', 'fum', 'furmint', 'g-s', 'gaglioppo', 'gamay', 'gamza', 'garganega', 'garnacha', 'garnacha-cabernet', 'garnacha-cari', 'garnacha-monastrell', 'garnacha-syrah', 'garnacha-tempranillo', 'gelber', 'gentile', 'gew', 'gialla', 'giallo', 'glera', 'godello', 'gomes', 'gomes-bical', 'gouveio', 'gr', 'gra', 'graciano', 'gragnano', 'grains', 'grasparossa', 'grauburgunder', 'grecanico', 'grechetto', 'greco', 'grenache', 'grenache-carignan', 'grenache-mourv', 'grenache-shiraz', 'grenache-syrah', 'grigio', 'grigio-sauvignon', 'grignolino', 'grillo', 'gris', 'gris-gew', 'grolleau', 'groppello', 'gros', 'grosso', 'hamburg', 'hondarrabi', 'ilavka', 'incrocio', 'insolia', 'inzolia', 'ioas', 'irsai', 'istriana', 'jacqu', 'jacquez', 'jaen', 'jampal', 'johannisberg', 'kadarka', 'kalecik', 'kangoun', 'karalahna', 'karasakiz', 'karasi', 'kekfrankos', 'kerner', 'kinali', 'kisi', 'kotsifali', 'kuntra', \"l'oeil\", 'lagrein', 'lambrusco', 'larinho', 'laurent', 'lemberger', 'list', 'ller-thurgau', 'loin', 'loureiro', 'loureiro-arinto', 'lugana', 'macabeo', 'macabeo-chardonnay', 'macabeo-moscatel', 'madeira', 'madeleine', 'magliocco', 'malagousia', 'malagouzia', 'malagouzia-chardonnay', 'malbec', 'malbec-bonarda', 'malbec-cabernet', 'malbec-carm', 'malbec-merlot', 'malbec-petit', 'malbec-syrah', 'malbec-tannat', 'malbec-tempranillo', 'mali', 'malvar', 'malvasia', 'malvasia-viura', 'mandilaria', 'manseng', 'mansois', 'mantonico', 'manzoni', 'marawi', 'maria', 'marquette', 'marsanne', 'marsanne-roussanne', 'marsanne-viognier', 'marselan', 'marzemino', 'mascalese', 'mataro', 'maturana', 'mauzac', 'mavrodaphne', 'mavrokalavryta', 'mavrotragano', 'mavroudi', 'mavrud', 'mazuelo', 'melnik', 'melon', 'menc', 'meritage', 'merlot', 'merlot-argaman', 'merlot-cabernet', 'merlot-grenache', 'merlot-malbec', 'merlot-petite', 'merlot-shiraz', 'merlot-syrah', 'merlot-tannat', 'merseguera-sauvignon', 'meseguera', 'meslier', 'meunier', 'mi', 'millon', 'misket', 'mission', 'mling', 'mole', 'molinara', 'monastrell', 'monastrell-petit', 'monastrell-syrah', 'mondeuse', 'monica', 'montepulciano', 'monukka', 'morava', 'moravia', 'morillon', 'morio', 'moscadello', 'moscatel', 'moscato', 'moschofilero', 'moschofilero-chardonnay', 'mourv', 'mtsvane', 'muscadel', 'muscadelle', 'muscadine', 'muscat', 'muscatel', 'muskat', 'muskateller', 'musqu', 'na', 'nacional', 'nacional-cabernet', 'narince', 'nascetta', 'nasco', 'ne-style', 'neagra', 'neasc', 'nebbiolo', 'negra', 'negrette', 'negro', 'negroamaro', 'ner', 'nera', 'nerello', 'nero', 'neuburger', 'nez', 'nielluciu', 'nkisch', 'noir', 'noir-gamay', 'noir-syrah', 'norton', 'nosiola', 'noto', 'nsk', 'nuragus', 'ojaleshi', 'okuzgozu', 'oliver', 'ondenc', 'orange', 'orangetraube', 'otskhanuri', 'ottonel', 'pa', 'pais', 'pallagrello', 'palomino', 'pansa', 'papaskarasi', 'paralleda', 'parraleta', 'passerina', 'pecorino', 'pedro', 'perricone', 'petit', 'petite', 'petits', 'pfeffer', 'picapoll', 'picolit', 'picpoul', 'picudo', 'piedirosso', 'pigato', 'pignoletto', 'pignolo', 'pinot', 'pinot-chardonnay', 'pinotage', 'pinotage-merlot', 'piquepoul', 'pires', 'plant', 'plavac', 'plyto', 'port', 'portugieser', 'portuguese', 'portuguiser', 'posip', 'poulsard', 'premsal', 'pri', 'prieto', 'primitivo', 'prosecco', 'provence', 'prugnolo', 'prunelard', 'pugnitello', 'rabigato', 'raboso', 'ramisco', 'rara', 're-cabernet', 're-syrah', 'rebo', 'rebula', 'red', 'refosco', 'regal', 'rh', 'ribolla', 'rieslaner', 'riesling', 'riesling-chardonnay', 'rivaner', 'rkatsiteli', 'robola', 'roditis', 'roditis-moschofilero', 'rolle', 'rom', 'romorantin', 'rondinella', 'roriz', 'ros', 'rosa', 'rosado', 'rosato', 'roscetto', 'rosenmuskateller', 'rotaliano', 'roter', 'rotgipfler', 'roussanne', 'roussanne-grenache', 'roussanne-marsanne', 'roussanne-viognier', 'roviello', 'roxo', 'rslevel', 'ruch', 'rufete', 'ryzlink', 'rztraminer', 'rztraminer-riesling', 'sacy', 'sagrantino', 'salamino', 'sangiovese', 'sangiovese-cabernet', 'sangiovese-syrah', 'saperavi', 'saperavi-merlot', 'sapere', 'sauvignon', 'sauvignon-barbera', 'sauvignon-cabernet', 'sauvignon-carmen', 'sauvignon-malbec', 'sauvignon-merlot', 'sauvignon-s', 'sauvignon-sangiovese', 'sauvignon-shiraz', 'sauvignon-syrah', 'sauvignon-tempranillo', 'sauvignonasse', 'savagnin', 'savatiano', 'scheurebe', 'schiava', 'schwartzriesling', 'sciaccerellu', 'semillon-chardonnay', 'semillon-sauvignon', 'sercial', 'servadou', 'seyval', 'sherry', 'shiraz', 'shiraz-cabernet', 'shiraz-grenache', 'shiraz-malbec', 'shiraz-mourv', 'shiraz-roussanne', 'shiraz-tempranillo', 'shiraz-viognier', 'sideritis', 'siegerrebe', 'silvaner', 'silvaner-traminer', 'sirah', 'siria', 'sirica', 'sorbara', 'sous', 'souzao', 'sp', 'sparkling', 'spoletino', 'st', 'susumaniello', 'sylvaner', 'symphony', 'syrah', 'syrah-bonarda', 'syrah-cabernet', 'syrah-carignan', 'syrah-grenache', 'syrah-malbec', 'syrah-merlot', 'syrah-mourv', 'syrah-petit', 'syrah-petite', 'syrah-tempranillo', 'syrah-viognier', 'tamianka', 'tamjanika', 'tannat', 'tannat-cabernet', 'tannat-merlot', 'tannat-syrah', 'tburgunder', 'tempranillo', 'tempranillo-cabernet', 'tempranillo-garnacha', 'tempranillo-malbec', 'tempranillo-merlot', 'tempranillo-shiraz', 'tempranillo-syrah', 'tempranillo-tannat', 'teran', 'teroldego', 'terrantez', 'thrapsathiri', 'timorasso', 'tinta', 'tintilia', 'tinto', 'tintorera', 'tocai', 'tokaji', 'tokay', 'torbato', 'toro', 'torontel', 'torront', 'touriga', 'trajadura', 'traminer', 'traminette', 'trebbiano', 'treixadura', 'trepat', 'trincadeira', 'troia', 'trollinger', 'trousseau', 'tsapournakos', 'tsolikouri', 'turbiana', 'ugni', 'uva', 'uvalino', 'valdigui', 'valvin', 'vaz', 'velasco', 'veltliner', 'verdeca', 'verdejo', 'verdejo-sauvignon', 'verdejo-viura', 'verdelho', 'verdicchio', 'verdil', 'verdosilla', 'verdot', 'verduzzo', 'vermentino', 'vernaccia', 'vespaiolo', 'vespolina', 'vidadillo', 'vidal', 'vignoles', 'vilana', 'vincent', 'vinh', 'viognier', 'viognier-chardonnay', 'viognier-gew', 'viognier-grenache', 'viognier-marsanne', 'viognier-roussanne', 'viognier-valdigui', 'viosinho', 'vital', 'vitovska', 'viura', 'viura-chardonnay', 'viura-verdejo', 'volpe', 'vranac', 'vranec', 'weissburgunder', 'welschriesling', 'white', 'xarel-lo', 'xim', 'xinisteri', 'xinomavro', 'xynisteri', 'yapincak', 'zelen', 'zibibbo', 'zierfandler', 'zierfandler-rotgipfler', 'zinfandel', 'zlahtina', 'zuri', 'zweigelt'] not in stop_words.\n",
      "  'stop_words.' % sorted(inconsistent))\n"
     ]
    }
   ],
   "source": [
    "# BoW Vectorization\n",
    "\n",
    "count_vectorizer = CountVectorizer(\n",
    "    'content',\n",
    "    token_pattern=pattern,\n",
    "    ngram_range=(1, 2),\n",
    "    stop_words=stopwords_list,\n",
    "    min_df=50,\n",
    "    max_features=None, # what is the ideal number here?\n",
    "    )\n",
    "\n",
    "X_train_count = count_vectorizer.fit_transform(X_train)\n",
    "X_test_count = count_vectorizer.transform(X_test)\n",
    "\n",
    "token_counts = count_vectorizer.vocabulary_\n"
   ]
  },
  {
   "cell_type": "markdown",
   "metadata": {},
   "source": [
    "# Visualization"
   ]
  },
  {
   "cell_type": "code",
   "execution_count": null,
   "metadata": {},
   "outputs": [],
   "source": [
    "# wordclouds\n",
    "    # overall\n",
    "    # by variety\n",
    "\n",
    "\n",
    "wordcloud = WordCloud(width = 800, height = 800, \n",
    "                background_color ='white',\n",
    "                min_font_size = 10)\n",
    "wordcloud.generate(' '.join(BoW)) \n",
    "  \n",
    "# plot the WordCloud image                        \n",
    "plt.figure(figsize = (8, 8), facecolor = None) \n",
    "plt.imshow(wordcloud) \n",
    "plt.axis(\"off\") \n",
    "plt.tight_layout(pad = 0) \n",
    "  \n",
    "plt.show() "
   ]
  },
  {
   "cell_type": "code",
   "execution_count": null,
   "metadata": {
    "ExecuteTime": {
     "end_time": "2020-09-18T14:58:51.699263Z",
     "start_time": "2020-09-18T14:58:51.648264Z"
    }
   },
   "outputs": [],
   "source": [
    "# chart: alsolute word count\n",
    "token_counts.min()\n",
    "\n",
    "\n"
   ]
  },
  {
   "cell_type": "code",
   "execution_count": null,
   "metadata": {},
   "outputs": [],
   "source": [
    "# chart: n of docs per word\n",
    "\n",
    "# chart: grouppings per TF IDF\n",
    "\n",
    "# chart: wine variety grouppings per TF IDF\n"
   ]
  },
  {
   "cell_type": "code",
   "execution_count": null,
   "metadata": {
    "ExecuteTime": {
     "end_time": "2020-09-18T14:26:01.081960Z",
     "start_time": "2020-09-18T14:26:00.627693Z"
    }
   },
   "outputs": [],
   "source": [
    "x = list((count_vectorizer.vocabulary_).values())\n",
    "sns.distplot(x)"
   ]
  },
  {
   "cell_type": "markdown",
   "metadata": {},
   "source": [
    "# Classification"
   ]
  },
  {
   "cell_type": "code",
   "execution_count": 13,
   "metadata": {
    "ExecuteTime": {
     "end_time": "2020-09-21T13:58:42.725266Z",
     "start_time": "2020-09-21T13:21:03.026820Z"
    }
   },
   "outputs": [
    {
     "name": "stdout",
     "output_type": "stream",
     "text": [
      "Train on 81881 samples, validate on 9098 samples\n",
      "Epoch 1/50\n",
      "81881/81881 [==============================] - 46s 565us/step - loss: 5.5419 - acc: 0.0935 - val_loss: 3.9977 - val_acc: 0.0667\n",
      "Epoch 2/50\n",
      "81881/81881 [==============================] - 49s 596us/step - loss: 4.0060 - acc: 0.0925 - val_loss: 3.7859 - val_acc: 0.1708\n",
      "Epoch 3/50\n",
      "81881/81881 [==============================] - 43s 519us/step - loss: 3.6677 - acc: 0.1898 - val_loss: 3.3673 - val_acc: 0.2657\n",
      "Epoch 4/50\n",
      "81881/81881 [==============================] - 44s 540us/step - loss: 3.1676 - acc: 0.2899 - val_loss: 2.8862 - val_acc: 0.3271\n",
      "Epoch 5/50\n",
      "81881/81881 [==============================] - 44s 538us/step - loss: 2.7644 - acc: 0.3577 - val_loss: 2.5984 - val_acc: 0.3856\n",
      "Epoch 6/50\n",
      "81881/81881 [==============================] - 50s 610us/step - loss: 2.4826 - acc: 0.4092 - val_loss: 2.3954 - val_acc: 0.4277\n",
      "Epoch 7/50\n",
      "81881/81881 [==============================] - 51s 625us/step - loss: 2.2357 - acc: 0.4661 - val_loss: 2.2233 - val_acc: 0.4720\n",
      "Epoch 8/50\n",
      "81881/81881 [==============================] - 44s 538us/step - loss: 2.0242 - acc: 0.5156 - val_loss: 2.1061 - val_acc: 0.4964\n",
      "Epoch 9/50\n",
      "81881/81881 [==============================] - 49s 593us/step - loss: 1.8530 - acc: 0.5509 - val_loss: 2.0286 - val_acc: 0.5138\n",
      "Epoch 10/50\n",
      "81881/81881 [==============================] - 54s 656us/step - loss: 1.7089 - acc: 0.5829 - val_loss: 1.9738 - val_acc: 0.5311\n",
      "Epoch 11/50\n",
      "81881/81881 [==============================] - 51s 617us/step - loss: 1.5778 - acc: 0.6136 - val_loss: 1.9354 - val_acc: 0.5446\n",
      "Epoch 12/50\n",
      "81881/81881 [==============================] - 52s 630us/step - loss: 1.4587 - acc: 0.6404 - val_loss: 1.9150 - val_acc: 0.5556\n",
      "Epoch 13/50\n",
      "81881/81881 [==============================] - 48s 582us/step - loss: 1.3538 - acc: 0.6637 - val_loss: 1.9122 - val_acc: 0.5673\n",
      "Epoch 14/50\n",
      "81881/81881 [==============================] - 45s 544us/step - loss: 1.2552 - acc: 0.6868 - val_loss: 1.9177 - val_acc: 0.5714\n",
      "Epoch 15/50\n",
      "81881/81881 [==============================] - 43s 530us/step - loss: 1.1567 - acc: 0.7096 - val_loss: 1.9370 - val_acc: 0.5721\n",
      "Epoch 16/50\n",
      "81881/81881 [==============================] - 46s 557us/step - loss: 1.0579 - acc: 0.7326 - val_loss: 1.9722 - val_acc: 0.5725\n",
      "Epoch 17/50\n",
      "81881/81881 [==============================] - 45s 546us/step - loss: 0.9703 - acc: 0.7531 - val_loss: 2.0054 - val_acc: 0.5788\n",
      "Epoch 18/50\n",
      "81881/81881 [==============================] - 45s 550us/step - loss: 0.8782 - acc: 0.7751 - val_loss: 2.0524 - val_acc: 0.5779\n",
      "Epoch 19/50\n",
      "81881/81881 [==============================] - 45s 545us/step - loss: 0.7951 - acc: 0.7946 - val_loss: 2.1028 - val_acc: 0.5783\n",
      "Epoch 20/50\n",
      "81881/81881 [==============================] - 48s 581us/step - loss: 0.7145 - acc: 0.8137 - val_loss: 2.1580 - val_acc: 0.5801\n",
      "Epoch 21/50\n",
      "81881/81881 [==============================] - 48s 582us/step - loss: 0.6400 - acc: 0.8320 - val_loss: 2.2177 - val_acc: 0.5843\n",
      "Epoch 22/50\n",
      "81881/81881 [==============================] - 45s 545us/step - loss: 0.5731 - acc: 0.8480 - val_loss: 2.2974 - val_acc: 0.5843\n",
      "Epoch 23/50\n",
      "81881/81881 [==============================] - 44s 543us/step - loss: 0.5070 - acc: 0.8649 - val_loss: 2.3826 - val_acc: 0.5806\n",
      "Epoch 24/50\n",
      "81881/81881 [==============================] - 44s 541us/step - loss: 0.4490 - acc: 0.8783 - val_loss: 2.4614 - val_acc: 0.5790\n",
      "Epoch 25/50\n",
      "81881/81881 [==============================] - 42s 518us/step - loss: 0.3959 - acc: 0.8926 - val_loss: 2.5397 - val_acc: 0.5849\n",
      "Epoch 26/50\n",
      "81881/81881 [==============================] - 44s 536us/step - loss: 0.3518 - acc: 0.9046 - val_loss: 2.6152 - val_acc: 0.5814\n",
      "Epoch 27/50\n",
      "81881/81881 [==============================] - 44s 535us/step - loss: 0.3115 - acc: 0.9153 - val_loss: 2.6933 - val_acc: 0.5845\n",
      "Epoch 28/50\n",
      "81881/81881 [==============================] - 43s 522us/step - loss: 0.2727 - acc: 0.9258 - val_loss: 2.7674 - val_acc: 0.5833\n",
      "Epoch 29/50\n",
      "81881/81881 [==============================] - 42s 508us/step - loss: 0.2474 - acc: 0.9311 - val_loss: 2.8249 - val_acc: 0.5841\n",
      "Epoch 30/50\n",
      "81881/81881 [==============================] - 41s 499us/step - loss: 0.2186 - acc: 0.9399 - val_loss: 2.8935 - val_acc: 0.5858\n",
      "Epoch 31/50\n",
      "81881/81881 [==============================] - 41s 503us/step - loss: 0.1954 - acc: 0.9460 - val_loss: 2.9630 - val_acc: 0.5841\n",
      "Epoch 32/50\n",
      "81881/81881 [==============================] - 41s 507us/step - loss: 0.1736 - acc: 0.9527 - val_loss: 3.0161 - val_acc: 0.5855\n",
      "Epoch 33/50\n",
      "81881/81881 [==============================] - 42s 519us/step - loss: 0.1579 - acc: 0.9562 - val_loss: 3.0765 - val_acc: 0.5872\n",
      "Epoch 34/50\n",
      "81881/81881 [==============================] - 43s 527us/step - loss: 0.1425 - acc: 0.9602 - val_loss: 3.1095 - val_acc: 0.5893\n",
      "Epoch 35/50\n",
      "81881/81881 [==============================] - 51s 618us/step - loss: 0.1297 - acc: 0.9640 - val_loss: 3.1489 - val_acc: 0.5887\n",
      "Epoch 36/50\n",
      "81881/81881 [==============================] - 46s 559us/step - loss: 0.1158 - acc: 0.9689 - val_loss: 3.2259 - val_acc: 0.5853\n",
      "Epoch 37/50\n",
      "81881/81881 [==============================] - 45s 553us/step - loss: 0.1068 - acc: 0.9705 - val_loss: 3.2530 - val_acc: 0.5920\n",
      "Epoch 38/50\n",
      "81881/81881 [==============================] - 44s 539us/step - loss: 0.0984 - acc: 0.9737 - val_loss: 3.2915 - val_acc: 0.5888\n",
      "Epoch 39/50\n",
      "81881/81881 [==============================] - 44s 532us/step - loss: 0.0905 - acc: 0.9763 - val_loss: 3.3203 - val_acc: 0.5869\n",
      "Epoch 40/50\n",
      "81881/81881 [==============================] - 43s 525us/step - loss: 0.0841 - acc: 0.9777 - val_loss: 3.3442 - val_acc: 0.5888\n",
      "Epoch 41/50\n",
      "81881/81881 [==============================] - 48s 584us/step - loss: 0.0771 - acc: 0.9794 - val_loss: 3.3882 - val_acc: 0.5912\n",
      "Epoch 42/50\n",
      "81881/81881 [==============================] - 46s 563us/step - loss: 0.0734 - acc: 0.9804 - val_loss: 3.4128 - val_acc: 0.5930\n",
      "Epoch 43/50\n",
      "81881/81881 [==============================] - 43s 520us/step - loss: 0.0678 - acc: 0.9814 - val_loss: 3.4331 - val_acc: 0.5916\n",
      "Epoch 44/50\n",
      "81881/81881 [==============================] - 42s 515us/step - loss: 0.0649 - acc: 0.9829 - val_loss: 3.4501 - val_acc: 0.5890\n",
      "Epoch 45/50\n",
      "81881/81881 [==============================] - 42s 509us/step - loss: 0.0592 - acc: 0.9842 - val_loss: 3.4630 - val_acc: 0.5900\n",
      "Epoch 46/50\n",
      "81881/81881 [==============================] - 44s 542us/step - loss: 0.0559 - acc: 0.9854 - val_loss: 3.4813 - val_acc: 0.5896\n",
      "Epoch 47/50\n",
      "81881/81881 [==============================] - 47s 575us/step - loss: 0.0540 - acc: 0.9856 - val_loss: 3.4836 - val_acc: 0.5882\n",
      "Epoch 48/50\n",
      "81881/81881 [==============================] - 45s 547us/step - loss: 0.0507 - acc: 0.9869 - val_loss: 3.5139 - val_acc: 0.5878\n",
      "Epoch 49/50\n",
      "81881/81881 [==============================] - 42s 517us/step - loss: 0.0466 - acc: 0.9878 - val_loss: 3.5301 - val_acc: 0.5901\n",
      "Epoch 50/50\n",
      "81881/81881 [==============================] - 45s 544us/step - loss: 0.0444 - acc: 0.9888 - val_loss: 3.5538 - val_acc: 0.5895\n"
     ]
    }
   ],
   "source": [
    "# network architecture\n",
    "model_1 = models.Sequential()\n",
    "\n",
    "# add layers \n",
    "# (in this case, Dense which means that this layer will be fully connected)\n",
    "# input_shape parameter is often optiona\n",
    "model_1.add(layers.Dense(700, activation='relu', input_shape=(n_features,)))\n",
    "model_1.add(layers.Dropout(0.3))\n",
    "model_1.add(layers.Dense(500, activation='relu'))\n",
    "model_1.add(layers.Dropout(0.3))\n",
    "model_1.add(layers.Dense(300, activation='relu'))\n",
    "model_1.add(layers.Dropout(0.3))\n",
    "model_1.add(layers.Dense(n_labels, activation='softmax'))\n",
    "\n",
    "# compile the model\n",
    "model_1.compile(optimizer='Adam',\n",
    "              loss='categorical_crossentropy',\n",
    "              metrics=['accuracy'])\n",
    "\n",
    "# train the model\n",
    "# batched size can be tuned. The model will forward and backwards propagate once per batch\n",
    "history_1 = model_1.fit(X_train_tfid, y_train,\n",
    "                        epochs=50, batch_size=5000,\n",
    "                       validation_split=0.1)"
   ]
  },
  {
   "cell_type": "code",
   "execution_count": null,
   "metadata": {},
   "outputs": [],
   "source": []
  },
  {
   "cell_type": "code",
   "execution_count": null,
   "metadata": {},
   "outputs": [],
   "source": []
  },
  {
   "cell_type": "code",
   "execution_count": null,
   "metadata": {
    "ExecuteTime": {
     "end_time": "2020-09-18T14:09:35.209546Z",
     "start_time": "2020-09-18T14:09:34.764369Z"
    }
   },
   "outputs": [],
   "source": [
    "plt.figure()\n",
    "plt.plot((history_1.history)['val_acc'], label='Validation Accuracy')\n",
    "plt.plot((history_1.history)['acc'], label='Accuracy')\n",
    "plt.legend()\n",
    "plt.show()"
   ]
  },
  {
   "cell_type": "code",
   "execution_count": null,
   "metadata": {
    "ExecuteTime": {
     "end_time": "2020-09-18T13:02:16.977748Z",
     "start_time": "2020-09-18T13:02:16.971732Z"
    }
   },
   "outputs": [],
   "source": [
    "(history_1.history).keys()"
   ]
  },
  {
   "cell_type": "code",
   "execution_count": null,
   "metadata": {},
   "outputs": [],
   "source": []
  }
 ],
 "metadata": {
  "kernelspec": {
   "display_name": "Python [conda env:learn-env] *",
   "language": "python",
   "name": "conda-env-learn-env-py"
  },
  "language_info": {
   "codemirror_mode": {
    "name": "ipython",
    "version": 3
   },
   "file_extension": ".py",
   "mimetype": "text/x-python",
   "name": "python",
   "nbconvert_exporter": "python",
   "pygments_lexer": "ipython3",
   "version": "3.6.9"
  },
  "toc": {
   "base_numbering": 1,
   "nav_menu": {},
   "number_sections": true,
   "sideBar": true,
   "skip_h1_title": false,
   "title_cell": "Table of Contents",
   "title_sidebar": "Contents",
   "toc_cell": false,
   "toc_position": {
    "height": "calc(100% - 180px)",
    "left": "10px",
    "top": "150px",
    "width": "165px"
   },
   "toc_section_display": true,
   "toc_window_display": false
  },
  "varInspector": {
   "cols": {
    "lenName": 16,
    "lenType": 16,
    "lenVar": 40
   },
   "kernels_config": {
    "python": {
     "delete_cmd_postfix": "",
     "delete_cmd_prefix": "del ",
     "library": "var_list.py",
     "varRefreshCmd": "print(var_dic_list())"
    },
    "r": {
     "delete_cmd_postfix": ") ",
     "delete_cmd_prefix": "rm(",
     "library": "var_list.r",
     "varRefreshCmd": "cat(var_dic_list()) "
    }
   },
   "types_to_exclude": [
    "module",
    "function",
    "builtin_function_or_method",
    "instance",
    "_Feature"
   ],
   "window_display": false
  }
 },
 "nbformat": 4,
 "nbformat_minor": 2
}
